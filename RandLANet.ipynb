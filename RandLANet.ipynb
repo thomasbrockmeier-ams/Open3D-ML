{
  "nbformat": 4,
  "nbformat_minor": 0,
  "metadata": {
    "accelerator": "GPU",
    "colab": {
      "name": "RandLANet.ipynb",
      "provenance": [],
      "collapsed_sections": [],
      "machine_shape": "hm"
    },
    "kernelspec": {
      "display_name": "Python 3",
      "name": "python3"
    }
  },
  "cells": [
    {
      "cell_type": "code",
      "metadata": {
        "colab": {
          "base_uri": "https://localhost:8080/"
        },
        "id": "6i_eC-b1E83a",
        "outputId": "2e5f8320-9206-4de5-fc2a-315ddcbab895"
      },
      "source": [
        "!nvidia-smi"
      ],
      "execution_count": null,
      "outputs": [
        {
          "output_type": "stream",
          "text": [
            "Tue Aug 10 09:29:16 2021       \n",
            "+-----------------------------------------------------------------------------+\n",
            "| NVIDIA-SMI 470.42.01    Driver Version: 460.32.03    CUDA Version: 11.2     |\n",
            "|-------------------------------+----------------------+----------------------+\n",
            "| GPU  Name        Persistence-M| Bus-Id        Disp.A | Volatile Uncorr. ECC |\n",
            "| Fan  Temp  Perf  Pwr:Usage/Cap|         Memory-Usage | GPU-Util  Compute M. |\n",
            "|                               |                      |               MIG M. |\n",
            "|===============================+======================+======================|\n",
            "|   0  Tesla P100-PCIE...  Off  | 00000000:00:04.0 Off |                    0 |\n",
            "| N/A   33C    P0    27W / 250W |      0MiB / 16280MiB |      0%      Default |\n",
            "|                               |                      |                  N/A |\n",
            "+-------------------------------+----------------------+----------------------+\n",
            "                                                                               \n",
            "+-----------------------------------------------------------------------------+\n",
            "| Processes:                                                                  |\n",
            "|  GPU   GI   CI        PID   Type   Process name                  GPU Memory |\n",
            "|        ID   ID                                                   Usage      |\n",
            "|=============================================================================|\n",
            "|  No running processes found                                                 |\n",
            "+-----------------------------------------------------------------------------+\n"
          ],
          "name": "stdout"
        }
      ]
    },
    {
      "cell_type": "code",
      "metadata": {
        "id": "-y74ze6xFBnj"
      },
      "source": [
        "from google.colab import drive\n",
        "# Mount the Google Drive\n",
        "drive.mount('/content/drive', force_remount=True)\n",
        "import os\n",
        "# Now, cd to a folder from my Google Drive\n",
        "os.chdir(\"/content/drive/My Drive/Chris/3D-ML/Open3D-ML_master\")"
      ],
      "execution_count": null,
      "outputs": []
    },
    {
      "cell_type": "code",
      "metadata": {
        "id": "wvWJ5ujAJF0G"
      },
      "source": [
        "!pip3 install open3d # 0.13.0\n",
        "!pip3 install tensorflow~=2.4.1 # -r requirements-tensorflow.txt\n",
        "!pip3 install laspy[lazrs] # 2.0.2 "
      ],
      "execution_count": null,
      "outputs": []
    },
    {
      "cell_type": "markdown",
      "metadata": {
        "id": "BF43BjesDKM4"
      },
      "source": [
        "## Amsterdam dataloader\n",
        "We will make this in a Python script.\n",
        "\n",
        "NOTE: Comment line 60 (raise keyerror) in the registry.py in dist-packages/tensorflow. You can open this in Colab. Restart the runtime after. "
      ]
    },
    {
      "cell_type": "code",
      "metadata": {
        "id": "ITi7ewtMDJdx"
      },
      "source": [
        "import os\n",
        "import ml3d as _ml3d\n",
        "import ml3d.tf as ml3d\n",
        "\n",
        "cfg_file = \"ml3d/configs/randlanet_amsterdam3d.yml\"\n",
        "cfg = _ml3d.utils.Config.load_from_file(cfg_file)\n",
        "\n",
        "model = ml3d.models.RandLANet(**cfg.model)\n",
        "cfg.dataset['dataset_path'] = \"/content/drive/My Drive/Datasets/street_lights/LiDAR/Weesp_auto_labeling/Cyclomedia_pc_verified\"\n",
        "dataset = _ml3d.datasets.Amsterdam3D(cfg.dataset.pop('dataset_path', None), **cfg.dataset)\n",
        "pipeline = ml3d.pipelines.SemanticSegmentation(model=model, dataset=dataset, max_epoch=200, batch_size=1, device='gpu')\n",
        "\n",
        "ckpt_folder = \"./logs/\"\n",
        "os.makedirs(ckpt_folder, exist_ok=True)"
      ],
      "execution_count": null,
      "outputs": []
    },
    {
      "cell_type": "code",
      "metadata": {
        "id": "GgZUpdjrDoAu"
      },
      "source": [
        "pipeline.cfg_tb = {\n",
        "    \"readme\": \"readme\",\n",
        "    \"cmd_line\": \"cmd_line\",\n",
        "    \"dataset\": \"Amsterdam3D\",\n",
        "    \"model\": \"RandLaNet\",\n",
        "    \"pipeline\": \"Default Pipeline\",\n",
        "}"
      ],
      "execution_count": null,
      "outputs": []
    },
    {
      "cell_type": "code",
      "metadata": {
        "id": "LDtkq4RQDrK0"
      },
      "source": [
        "pipeline.run_train()"
      ],
      "execution_count": null,
      "outputs": []
    },
    {
      "cell_type": "markdown",
      "metadata": {
        "id": "oOnsIl5OZnNY"
      },
      "source": [
        "## Evaluate"
      ]
    },
    {
      "cell_type": "code",
      "metadata": {
        "id": "W1JorX67rjhx"
      },
      "source": [
        "!pip3 install addict"
      ],
      "execution_count": null,
      "outputs": []
    },
    {
      "cell_type": "code",
      "metadata": {
        "id": "qqXkfhpHZmYo"
      },
      "source": [
        "import os\n",
        "import ml3d as _ml3d\n",
        "import ml3d.tf as ml3d\n",
        "\n",
        "cfg_file = \"ml3d/configs/randlanet_amsterdam3d.yml\"\n",
        "cfg = _ml3d.utils.Config.load_from_file(cfg_file)\n",
        "\n",
        "model = ml3d.models.RandLANet(**cfg.model)\n",
        "cfg.dataset['dataset_path'] = \"/content/drive/My Drive/Datasets/street_lights/LiDAR/Weesp_auto_labeling/Cyclomedia_pc_verified\"\n",
        "dataset = _ml3d.datasets.Amsterdam3D(cfg.dataset.pop('dataset_path', None), **cfg.dataset)\n",
        "pipeline = ml3d.pipelines.SemanticSegmentation(model, dataset=dataset, device=\"gpu\", **cfg.pipeline)\n",
        "\n",
        "# pretrained model\n",
        "ckpt_path = \"/content/drive/My Drive/Chris/Open3D-ML/Open3D-ML_master/logs/RandLANet_Amsterdam3D_tf/checkpoint/ckpt-11\"\n",
        "\n",
        "# load the parameters.\n",
        "pipeline.load_ckpt(ckpt_path=ckpt_path)\n",
        "\n",
        "test_split = dataset.get_split(\"val\")\n",
        "data = test_split.get_data(0)\n",
        "\n",
        "# run inference on a single example.\n",
        "# returns dict with 'predict_labels' and 'predict_scores'.\n",
        "result = pipeline.run_inference(data)\n",
        "\n",
        "# evaluate performance on the test set; this will write logs to './logs'.\n",
        "pipeline.run_test()"
      ],
      "execution_count": null,
      "outputs": []
    },
    {
      "cell_type": "markdown",
      "metadata": {
        "id": "N287sOqb_QZC"
      },
      "source": [
        "## Visualize"
      ]
    },
    {
      "cell_type": "code",
      "metadata": {
        "id": "DY2y-K_a_SKu"
      },
      "source": [
        "# based on https://github.com/intel-isl/Open3D-ML/blob/master/examples/vis_pred.py\n",
        "import numpy as np\n",
        "import os\n",
        "import ml3d as _ml3d\n",
        "import ml3d.tf as ml3d\n",
        "import sys\n",
        "from os.path import exists, join, isfile, dirname, abspath, split\n",
        "import laspy\n",
        "\n",
        "def get_custom_data(pc_names, path):\n",
        "    pc_data = []\n",
        "    for i, name in enumerate(pc_names):\n",
        "        pc_path = join(path, 'points', name)\n",
        "\n",
        "        data = laspy.read(pc_path)\n",
        "\n",
        "        points = np.vstack((data.x, data.y, data.z)).T.astype(np.float32)\n",
        "\n",
        "        feat = np.vstack((data.red, data.green, data.blue)).T.astype(np.float32)\n",
        "        \n",
        "        label = np.zeros((points.shape[0],), dtype=np.int32)\n",
        "        \n",
        "        data = {\n",
        "            'point': points,\n",
        "            'feat': feat,\n",
        "            'label': label,\n",
        "        }\n",
        "        pc_data.append(data)\n",
        "\n",
        "    return pc_data\n",
        "\n",
        "\n",
        "def pred_custom_data(pc_names, pcs, pipeline_r):\n",
        "    vis_points = []\n",
        "    for i, data in enumerate(pcs):\n",
        "        name = pc_names[i]\n",
        "\n",
        "        results_r = pipeline_r.run_inference(data)\n",
        "        pred_label_r = (results_r['predict_labels'] + 1).astype(np.int32)\n",
        "\n",
        "        # WARNING, THIS IS A HACK\n",
        "        # Fill \"unlabeled\" value because predictions have no 0 values.\n",
        "        pred_label_r[0] = 0\n",
        "\n",
        "        label = data['label']\n",
        "        pts = data['point']\n",
        "\n",
        "        vis_d = {\n",
        "            \"name\": name + \"_randlanet\",\n",
        "            \"points\": pts,\n",
        "            \"labels\": pred_label_r,\n",
        "        }\n",
        "        vis_points.append(vis_d)\n",
        "\n",
        "    return vis_points\n",
        "\n",
        "pc_names = [\"processed_2633_9595.laz\"]\n",
        "\n",
        "cfg_file = \"openje/ml3d/configs/randlanet_amsterdam3d.yml\"\n",
        "cfg = _ml3d.utils.Config.load_from_file(cfg_file)\n",
        "\n",
        "amsterdam_labels = _ml3d.datasets.Amsterdam3D.get_label_to_names()\n",
        "v = _ml3d.vis.Visualizer()\n",
        "lut = _ml3d.vis.LabelLUT()\n",
        "for val in sorted(amsterdam_labels.keys()):\n",
        "    lut.add_label(amsterdam_labels[val], val)\n",
        "data_path = \"demo_data_amsterdam\"\n",
        "cfg.dataset[\"dataset_path\"] = data_path\n",
        "\n",
        "v.set_lut(\"labels\", lut)\n",
        "v.set_lut(\"pred\", lut)\n",
        "\n",
        "ckpt_path = \"checkpoint/ckpt-1\"\n",
        "model = ml3d.models.RandLANet(**cfg.model)\n",
        "pipeline_r = ml3d.pipelines.SemanticSegmentation(model, **cfg.pipeline)\n",
        "pipeline_r.load_ckpt(ckpt_path)\n",
        "\n",
        "pcs = get_custom_data(pc_names, data_path)\n",
        "pcs_with_pred = pred_custom_data(pc_names, pcs, pipeline_r)\n",
        "\n",
        "v.visualize(pcs_with_pred)"
      ],
      "execution_count": null,
      "outputs": []
    }
  ]
}